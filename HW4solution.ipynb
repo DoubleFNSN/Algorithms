{
 "cells": [
  {
   "cell_type": "markdown",
   "metadata": {},
   "source": [
    "# Generalizations of Max-Flow\n",
    "\n",
    "The purpose of this assignment is to learn about the min-cost flow problem, a generalization of max-flow, and to familiarize yourself with implementing and solving linear programs."
   ]
  },
  {
   "cell_type": "markdown",
   "metadata": {},
   "source": [
    "## Min-Cost Flow\n",
    "\n",
    "Recall that a flow network with demands consists of a directed graph $G = (V, E)$, where each edge $(i,j) \\in E$ has a positive integer capacity $c_{ij}$ and each node $i \\in V$ has an integer demand $d_i$. In a *min-cost flow* problem, each edge $(i,j) \\in E$ also has a cost (or weight) $w_{ij}$. (Note that this input generalizes the input to two important problems we discussed so far: in max flow, the edge weights were not important while in shortest paths, the edge capacities were not important.) \n",
    "\n",
    "Given a flow network with capacities and costs, the goal is to find a *feasible* flow $f: E \\rightarrow R^+$ --that is, a flow satisfying edge capacity constraints and node demands-- that minimizes the total cost of the flow. Explicitly, the problem can be formulated as a linear program."
   ]
  },
  {
   "cell_type": "markdown",
   "metadata": {},
   "source": [
    "### Question 1\n",
    "\n",
    "Answer Problem 1 in HW4-theoretical."
   ]
  },
  {
   "cell_type": "markdown",
   "metadata": {},
   "source": [
    "### Question 2\n",
    "\n",
    "To implement your reduction from Problem 1 in HW4-theoretical, you will work with some standard benchmark instances for min-cost flow found [here](http://elib.zib.de/pub/Packages/mp-testdata/mincost/gte/index.html). The format of the data is described in the [Info](http://elib.zib.de/pub/Packages/mp-testdata/mincost/gte/info) file. You are to read in the graph from the data file in a form that can be solved using NetworkX's `min_cost_flow` function. Note that the data sometimes lists multiple edges between the same nodes, but with different costs or capacities. In forming the graph, you need to implement your reduction from the previous question and form a `DiGraph` instance, because the `min_cost_flow` function cannot handle multi-edges, even though the package offers `MultiDiGraph` objects."
   ]
  },
  {
   "cell_type": "code",
   "execution_count": 1,
   "metadata": {
    "collapsed": false
   },
   "outputs": [],
   "source": [
    "import networkx as nx\n",
    "\n",
    "def create_graph(infile):\n",
    "    \"\"\"Creates a directed graph as specified by the input file. Edges are annotated with 'capacity'\n",
    "    and 'weight' attributes, and nodes are annotated with 'demand' attributes.\n",
    "    \n",
    "    Args:\n",
    "        infile: the input file using the format to specify a min-cost flow problem.\n",
    "        \n",
    "    Returns:\n",
    "        A directed graph (but not a multi-graph) with edges annotated with 'capacity' and 'weight' attributes\n",
    "        and nodes annotated with 'demand' attributes.\n",
    "    \"\"\"\n",
    "    #Load the data for original graph\n",
    "    edges = dict()\n",
    "    vertices = dict()\n",
    "    with open(infile, 'r') as f:\n",
    "        for line in f.readlines():\n",
    "           \n",
    "           line = line.strip().split(' ')\n",
    "#           print line\n",
    "           if line[0] == 'p':\n",
    "#                print line\n",
    "                 nb_vertices = int(line[2])\n",
    "           if line[0] == 'n':\n",
    "                vertices[int(line[1])] = int(line[2])    # create a dict of vertices and associate the demand with each vertex\n",
    "           if line[0] == 'a':\n",
    "                edge = (int(line[1]), int(line[2]))\n",
    "                if edge not in edges.keys():\n",
    "                    value = dict()\n",
    "                    value['capacity'] = [int(line[4])]\n",
    "                    value['cost'] = [float(line[5])]\n",
    "                    edges[edge] = value                 # create a dict of edges and associate capacity/cost with each edge\n",
    "                else: \n",
    "                    edges[edge]['capacity'].append(int(line[4]))  # if the edges already exists then \n",
    "                                                                  #add the capacity/cost  to the edge in the \n",
    "                                                                 #same key of the dict \n",
    "                    \n",
    "#                    print edge , edges[edge]['capacity']        #(48, 25) [393657, 393657]\n",
    "                    edges[edge]['cost'].append(float(line[5]))\n",
    "#    \n",
    "#    \n",
    "#    #Transformation : \n",
    "                \n",
    "    for edge in edges.keys():\n",
    "        if len(edges[edge]['capacity']) > 1:   # If the edges has two capcities\n",
    "            for k in range(len(edges[edge]['capacity'])):\n",
    "                nb_vertices += 1            # add  one new vertex per exiting edge\n",
    "                #Create first edge\n",
    "                \n",
    "                edge1 = (edge[0],nb_vertices)\n",
    "                \n",
    "                value = dict()\n",
    "                value['capacity'] = edges[edge]['capacity'][k]\n",
    "                value['cost'] = edges[edge]['cost'][k]  \n",
    "                edges[edge1] = value\n",
    "\n",
    "                #Create second edge\n",
    "                edge2 = (nb_vertices, edge[1])\n",
    "                value = dict()\n",
    "                value['capacity'] = edges[edge]['capacity'][k]\n",
    "                value['cost'] = 0 \n",
    "                edges[edge2] = value\n",
    "\n",
    "            #Remove the original edge\n",
    "            del edges[edge]\n",
    "#            \n",
    "#    \n",
    "    #Creation of the final graph \n",
    "    G = nx.DiGraph()\n",
    "    for edge in edges.keys():\n",
    "\n",
    "        G.add_edge(edge[0], edge[1])\n",
    "    \n",
    "    for (n1, n2) in G.edges():\n",
    "        G.edge[n1][n2]['capacity'] = edges[(n1, n2)]['capacity']\n",
    "        G.edge[n1][n2]['weight'] = edges[(n1, n2)]['cost']\n",
    "#    \n",
    "    for node1 in vertices:\n",
    "\n",
    "        G.node[node1]['demand'] = vertices[node1]\n",
    "   \n",
    "    return G\n",
    "#    "
   ]
  },
  {
   "cell_type": "markdown",
   "metadata": {},
   "source": [
    "The following will check that your code outputs the expected min cost flow values on several test instances."
   ]
  },
  {
   "cell_type": "code",
   "execution_count": 3,
   "metadata": {
    "collapsed": false
   },
   "outputs": [
    {
     "name": "stdout",
     "output_type": "stream",
     "text": [
      "Correct value for _40 instance: True\n",
      "Correct value for _6830 instance: True\n",
      "Correct value for _176280 instance: True\n"
     ]
    }
   ],
   "source": [
    "G_40 = create_graph('gte_bad.40')\n",
    "G_6830 = create_graph('gte_bad.6830')\n",
    "G_176280 = create_graph('gte_bad.176280')\n",
    "\n",
    "print \"Correct value for _40 instance:\", nx.min_cost_flow_cost(G_40) == 52099553858\n",
    "print \"Correct value for _6830 instance:\", nx.min_cost_flow_cost(G_6830) == 299390431788\n",
    "print \"Correct value for _176280 instance:\", nx.min_cost_flow_cost(G_176280) == 510585093810"
   ]
  },
  {
   "cell_type": "markdown",
   "metadata": {},
   "source": [
    "## Linear Programming\n",
    "\n",
    "Instead of using special-purpose min-cost flow solvers, you will now formulate the problems as linear programs and use general-purpose LP solvers to find the solutions."
   ]
  },
  {
   "cell_type": "markdown",
   "metadata": {},
   "source": [
    "### Question 3\n",
    "\n",
    "Implement the following function to formulate the flow LP and return the optimal value (i.e., minimum cost over feasible flows)."
   ]
  },
  {
   "cell_type": "code",
   "execution_count": 4,
   "metadata": {
    "collapsed": false
   },
   "outputs": [],
   "source": [
    "from pulp import *\n",
    "\n",
    "def lp_flow_value(G):\n",
    "    \"\"\"Computes the value of the minimum cost flow by formulating and solving\n",
    "    the problem as an LP.\n",
    "    \n",
    "    Args:\n",
    "        G: a directed graph with edges annotated with 'capacity' and 'weight'\n",
    "            attrbutes, and nodes annotated with 'demand' attributes.\n",
    "            \n",
    "    Returns:\n",
    "        The value of the minimum cost flow.\n",
    "    \"\"\"\n",
    "    prob = LpProblem(\"min_cost_flow\", LpMinimize)\n",
    "    cost = dict()\n",
    "\n",
    "    for edge in G.edges():\n",
    "        cost[str(edge)] = G.get_edge_data(edge[0], edge[1])['weight']\n",
    "\n",
    "    #Definition of variables\n",
    "    #Flow\n",
    "    f = pulp.LpVariable.dict(\"flow\", [str(edge) for edge in G.edges()], 0)\n",
    "    \n",
    "\n",
    "    \n",
    "    #Constraints\n",
    "\n",
    "    #Capacity constraint\n",
    "    for edge in G.edges():\n",
    "        prob += f[str(edge)] <= G.get_edge_data(edge[0], edge[1])['capacity']\n",
    "    #Demand constraint\n",
    "    for node in G.nodes():\n",
    "        if G.node[node] == {}:\n",
    "            demand = 0\n",
    "        else:\n",
    "            demand = G.node[node]['demand']\n",
    "            \n",
    "        flow_in = []\n",
    "        flow_out = []\n",
    "        for edge in G.edges():\n",
    "            if node == edge[1]:\n",
    "                flow_in.append(f[str(edge)])\n",
    "            if node == edge[0]:\n",
    "                flow_out.append(f[str(edge)])\n",
    "                \n",
    "        prob += lpSum(flow_in) - lpSum(flow_out) == demand\n",
    "                \n",
    "                \n",
    "    #Objective Function\n",
    "\n",
    "    prob += lpSum([cost[str((i,j))]*f[str((i,j))] for (i,j) in G.edges()])\n",
    "    status = prob.solve()\n",
    "    \n",
    "    return int(value(prob.objective))"
   ]
  },
  {
   "cell_type": "markdown",
   "metadata": {},
   "source": [
    "The following will check that the LP finds the same optimal values as previously."
   ]
  },
  {
   "cell_type": "code",
   "execution_count": 5,
   "metadata": {
    "collapsed": false
   },
   "outputs": [
    {
     "name": "stdout",
     "output_type": "stream",
     "text": [
      "Correct value for _40 instance: True\n",
      "Correct value for _6830 instance: True\n",
      "Correct value for _176280 instance: True\n"
     ]
    }
   ],
   "source": [
    "print \"Correct value for _40 instance:\", lp_flow_value(G_40) == 52099553858\n",
    "print \"Correct value for _6830 instance:\", lp_flow_value(G_6830) == 299390431788\n",
    "print \"Correct value for _176280 instance:\", lp_flow_value(G_176280) == 510585093810"
   ]
  },
  {
   "cell_type": "code",
   "execution_count": null,
   "metadata": {
    "collapsed": true
   },
   "outputs": [],
   "source": []
  }
 ],
 "metadata": {
  "anaconda-cloud": {},
  "kernelspec": {
   "display_name": "Python [Root]",
   "language": "python",
   "name": "Python [Root]"
  },
  "language_info": {
   "codemirror_mode": {
    "name": "ipython",
    "version": 2
   },
   "file_extension": ".py",
   "mimetype": "text/x-python",
   "name": "python",
   "nbconvert_exporter": "python",
   "pygments_lexer": "ipython2",
   "version": "2.7.12"
  }
 },
 "nbformat": 4,
 "nbformat_minor": 0
}
